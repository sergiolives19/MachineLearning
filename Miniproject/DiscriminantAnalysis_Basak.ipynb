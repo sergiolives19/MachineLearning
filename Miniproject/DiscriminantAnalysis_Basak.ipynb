{
  "nbformat": 4,
  "nbformat_minor": 0,
  "metadata": {
    "colab": {
      "name": "Basak_LDA_QDA",
      "provenance": [],
      "collapsed_sections": []
    },
    "kernelspec": {
      "name": "python3",
      "display_name": "Python 3"
    },
    "language_info": {
      "name": "python"
    }
  },
  "cells": [
    {
      "cell_type": "code",
      "source": [
        "import pandas as pd\n",
        "import numpy as np\n",
        "import matplotlib.pyplot as plt\n",
        "\n",
        "import sklearn.model_selection as skl_ms\n",
        "import sklearn.preprocessing as skl_pr\n",
        "import sklearn.linear_model as skl_lm\n",
        "import sklearn.discriminant_analysis as skl_da\n",
        "import sklearn.neighbors as skl_nb\n",
        "from sklearn.datasets import make_classification\n",
        "from sklearn.model_selection import GridSearchCV\n",
        "from sklearn.model_selection import RepeatedStratifiedKFold\n",
        "from sklearn.discriminant_analysis import LinearDiscriminantAnalysis\n",
        "from sklearn.model_selection import RandomizedSearchCV\n",
        "\n",
        "#from IPython.display import set_matplotlib_formats\n",
        "#set_matplotlib_formats('png')\n",
        "from IPython.core.pylabtools import figsize\n",
        "figsize(10, 6) # Width and hight\n",
        "#plt.style.use('seaborn-white')"
      ],
      "metadata": {
        "id": "I_4Y4VIYu8ME"
      },
      "execution_count": null,
      "outputs": []
    },
    {
      "cell_type": "code",
      "source": [
        "url = 'https://raw.githubusercontent.com/Ari-vu/SML/main/Given_data/train.csv'\n",
        "data = pd.read_csv(url)"
      ],
      "metadata": {
        "id": "3-wNHM8Kx_Qv"
      },
      "execution_count": null,
      "outputs": []
    },
    {
      "cell_type": "code",
      "source": [
        "x = data.drop(columns=['Lead'])\n",
        "y = data['Lead']"
      ],
      "metadata": {
        "id": "jl7qEHmOynYl"
      },
      "execution_count": null,
      "outputs": []
    },
    {
      "cell_type": "markdown",
      "source": [
        "\n",
        "\n",
        "LDA"
      ],
      "metadata": {
        "id": "tzgnlCU4zTM_"
      }
    },
    {
      "cell_type": "code",
      "source": [
        "model = skl_da.LinearDiscriminantAnalysis()\n",
        "model.fit(x, y)\n",
        "print('Accuracy on training data: %.2f' %np.mean(model.predict(x)==y))"
      ],
      "metadata": {
        "id": "qkckPIPQzU0N",
        "colab": {
          "base_uri": "https://localhost:8080/"
        },
        "outputId": "bfa4fa7e-dd03-4ac0-86a7-29c49219ba92"
      },
      "execution_count": null,
      "outputs": [
        {
          "output_type": "stream",
          "name": "stdout",
          "text": [
            "Accuracy on training data: 0.87\n"
          ]
        }
      ]
    },
    {
      "cell_type": "code",
      "source": [
        "predict_prob = model.predict_proba(x)\n",
        "print('The class order in the model:')\n",
        "print(model.classes_)\n",
        "print('Examples of predicted probablities for the above classes:') \n",
        "with np.printoptions(suppress=True, precision=3): # Supress scienti fic notaion, e.g. 1.0e-2.\n",
        "  print(predict_prob[0:5]) # inspect the first 5 predictions"
      ],
      "metadata": {
        "colab": {
          "base_uri": "https://localhost:8080/"
        },
        "id": "S4hIqwChj6Y6",
        "outputId": "623244d7-d8e4-4ff9-fc2b-4c4eb8e3b31e"
      },
      "execution_count": null,
      "outputs": [
        {
          "output_type": "stream",
          "name": "stdout",
          "text": [
            "The class order in the model:\n",
            "['Female' 'Male']\n",
            "Examples of predicted probablities for the above classes:\n",
            "[[0.978 0.022]\n",
            " [0.068 0.932]\n",
            " [0.036 0.964]\n",
            " [0.015 0.985]\n",
            " [0.199 0.801]]\n"
          ]
        }
      ]
    },
    {
      "cell_type": "code",
      "source": [
        "model.get_params()"
      ],
      "metadata": {
        "colab": {
          "base_uri": "https://localhost:8080/"
        },
        "id": "cyILpzMaUY7O",
        "outputId": "a69b88a0-ce60-438f-ef7e-fb0dfc18419b"
      },
      "execution_count": null,
      "outputs": [
        {
          "output_type": "execute_result",
          "data": {
            "text/plain": [
              "{'covariance_estimator': None,\n",
              " 'n_components': None,\n",
              " 'priors': None,\n",
              " 'shrinkage': None,\n",
              " 'solver': 'svd',\n",
              " 'store_covariance': False,\n",
              " 'tol': 0.0001}"
            ]
          },
          "metadata": {},
          "execution_count": 67
        }
      ]
    },
    {
      "cell_type": "code",
      "source": [
        "prediction = np.empty(len(x), dtype=object)\n",
        "prediction = np.where(predict_prob[:, 0]>=0.5, 'Female', 'Male')\n",
        "prediction[0:5] # Inspect the first 5 predictions after labeling"
      ],
      "metadata": {
        "id": "8AlxJk2QmmFr",
        "colab": {
          "base_uri": "https://localhost:8080/"
        },
        "outputId": "0ca7fdc2-6ad0-4650-ef4f-94ffbe37aa94"
      },
      "execution_count": null,
      "outputs": [
        {
          "output_type": "execute_result",
          "data": {
            "text/plain": [
              "array(['Female', 'Male', 'Male', 'Male', 'Male'], dtype='<U6')"
            ]
          },
          "metadata": {},
          "execution_count": 80
        }
      ]
    },
    {
      "cell_type": "code",
      "source": [
        "# Accuracy\n",
        "print(f\"Accuracy: {np.mean(prediction == y):.3f}\")"
      ],
      "metadata": {
        "colab": {
          "base_uri": "https://localhost:8080/"
        },
        "id": "ONy1CkRqm0Gu",
        "outputId": "0da544e3-78a2-452f-a339-41ce360e4222"
      },
      "execution_count": null,
      "outputs": [
        {
          "output_type": "stream",
          "name": "stdout",
          "text": [
            "Accuracy: 0.885\n"
          ]
        }
      ]
    },
    {
      "cell_type": "code",
      "source": [
        "solvers = ['svd', 'lsqr', 'eigen']\n",
        "\n",
        "random_grid = {'solver': solvers}"
      ],
      "metadata": {
        "id": "l8oIJNMuh8JQ"
      },
      "execution_count": null,
      "outputs": []
    },
    {
      "cell_type": "code",
      "source": [
        "CV = RandomizedSearchCV(estimator=model, param_distributions=random_grid, n_iter=10, cv=3, verbose=2, random_state=1, n_jobs=-1)\n",
        "CV.fit(x, y)"
      ],
      "metadata": {
        "colab": {
          "base_uri": "https://localhost:8080/"
        },
        "id": "mGEf4yMoiM3I",
        "outputId": "a71dab9f-ea7f-4300-bb12-95b6535edcf8"
      },
      "execution_count": null,
      "outputs": [
        {
          "output_type": "stream",
          "name": "stdout",
          "text": [
            "Fitting 3 folds for each of 3 candidates, totalling 9 fits\n"
          ]
        },
        {
          "output_type": "stream",
          "name": "stderr",
          "text": [
            "/usr/local/lib/python3.7/dist-packages/sklearn/model_selection/_search.py:296: UserWarning: The total space of parameters 3 is smaller than n_iter=10. Running 3 iterations. For exhaustive searches, use GridSearchCV.\n",
            "  UserWarning,\n",
            "/usr/local/lib/python3.7/dist-packages/sklearn/model_selection/_validation.py:372: FitFailedWarning: \n",
            "1 fits failed out of a total of 9.\n",
            "The score on these train-test partitions for these parameters will be set to nan.\n",
            "If these failures are not expected, you can try to debug them by setting error_score='raise'.\n",
            "\n",
            "Below are more details about the failures:\n",
            "--------------------------------------------------------------------------------\n",
            "1 fits failed with the following error:\n",
            "Traceback (most recent call last):\n",
            "  File \"/usr/local/lib/python3.7/dist-packages/sklearn/model_selection/_validation.py\", line 680, in _fit_and_score\n",
            "    estimator.fit(X_train, y_train, **fit_params)\n",
            "  File \"/usr/local/lib/python3.7/dist-packages/sklearn/discriminant_analysis.py\", line 603, in fit\n",
            "    covariance_estimator=self.covariance_estimator,\n",
            "  File \"/usr/local/lib/python3.7/dist-packages/sklearn/discriminant_analysis.py\", line 440, in _solve_eigen\n",
            "    evals, evecs = linalg.eigh(Sb, Sw)\n",
            "  File \"/usr/local/lib/python3.7/dist-packages/scipy/linalg/decomp.py\", line 493, in eigh\n",
            "    \" computed.\" % (info-b1.shape[0]))\n",
            "numpy.linalg.LinAlgError: the leading minor of order 8 of 'b' is not positive definite. The factorization of 'b' could not be completed and no eigenvalues or eigenvectors were computed.\n",
            "\n",
            "  warnings.warn(some_fits_failed_message, FitFailedWarning)\n",
            "/usr/local/lib/python3.7/dist-packages/sklearn/model_selection/_search.py:972: UserWarning: One or more of the test scores are non-finite: [0.86525851 0.86525851        nan]\n",
            "  category=UserWarning,\n"
          ]
        },
        {
          "output_type": "execute_result",
          "data": {
            "text/plain": [
              "RandomizedSearchCV(cv=3, estimator=LinearDiscriminantAnalysis(), n_jobs=-1,\n",
              "                   param_distributions={'solver': ['svd', 'lsqr', 'eigen']},\n",
              "                   random_state=1, verbose=2)"
            ]
          },
          "metadata": {},
          "execution_count": 71
        }
      ]
    },
    {
      "cell_type": "code",
      "source": [
        "CV.best_params_"
      ],
      "metadata": {
        "colab": {
          "base_uri": "https://localhost:8080/"
        },
        "id": "5V25YFkFipOW",
        "outputId": "c28f12b2-a246-4cb0-b1f4-1a87e9161975"
      },
      "execution_count": null,
      "outputs": [
        {
          "output_type": "execute_result",
          "data": {
            "text/plain": [
              "{'solver': 'svd'}"
            ]
          },
          "metadata": {},
          "execution_count": 72
        }
      ]
    },
    {
      "cell_type": "markdown",
      "source": [
        "Default values are the best"
      ],
      "metadata": {
        "id": "_s-jy1pMjgBX"
      }
    },
    {
      "cell_type": "markdown",
      "source": [
        "QDA"
      ],
      "metadata": {
        "id": "oEaQrSlgoJis"
      }
    },
    {
      "cell_type": "code",
      "source": [
        "model = skl_da.QuadraticDiscriminantAnalysis() \n",
        "model.fit(x, y)"
      ],
      "metadata": {
        "colab": {
          "base_uri": "https://localhost:8080/"
        },
        "id": "tHvfD84roKpu",
        "outputId": "fb6ff76b-ae5d-409f-cc9c-fd5639377746"
      },
      "execution_count": null,
      "outputs": [
        {
          "output_type": "stream",
          "name": "stderr",
          "text": [
            "/usr/local/lib/python3.7/dist-packages/sklearn/discriminant_analysis.py:878: UserWarning: Variables are collinear\n",
            "  warnings.warn(\"Variables are collinear\")\n"
          ]
        },
        {
          "output_type": "execute_result",
          "data": {
            "text/plain": [
              "QuadraticDiscriminantAnalysis()"
            ]
          },
          "metadata": {},
          "execution_count": 81
        }
      ]
    },
    {
      "cell_type": "code",
      "source": [
        "predict_prob = model.predict_proba(x)\n",
        "print('The class order in the model:')\n",
        "print(model.classes_, '\\n')\n",
        "print('Examples of predicted probablities for the above classes:') \n",
        "with np.printoptions(suppress=True, precision=3):\n",
        "  print(predict_prob[0:5]) # inspect the first 5 predictions"
      ],
      "metadata": {
        "colab": {
          "base_uri": "https://localhost:8080/"
        },
        "id": "SD6JTCRakd4E",
        "outputId": "a3cccc62-c146-42f9-e283-a1f0cdb92dc3"
      },
      "execution_count": null,
      "outputs": [
        {
          "output_type": "stream",
          "name": "stdout",
          "text": [
            "The class order in the model:\n",
            "['Female' 'Male'] \n",
            "\n",
            "Examples of predicted probablities for the above classes:\n",
            "[[0.978 0.022]\n",
            " [0.068 0.932]\n",
            " [0.036 0.964]\n",
            " [0.015 0.985]\n",
            " [0.199 0.801]]\n"
          ]
        }
      ]
    },
    {
      "cell_type": "code",
      "source": [
        "# Accuracy\n",
        "print('Accuracy:')\n",
        "print(f\"{np.mean(prediction == y):.3f}\")"
      ],
      "metadata": {
        "colab": {
          "base_uri": "https://localhost:8080/"
        },
        "id": "T_yFXq2Pomvb",
        "outputId": "47f68f01-c6d9-49bc-90b2-2dc9f7887a7c"
      },
      "execution_count": null,
      "outputs": [
        {
          "output_type": "stream",
          "name": "stdout",
          "text": [
            "First five predictions:\n",
            "['Female' 'Male' 'Male' 'Male' 'Male'] \n",
            "\n",
            "Accuracy:\n",
            "0.885\n"
          ]
        }
      ]
    },
    {
      "cell_type": "code",
      "source": [
        "x = data.drop(columns=['Lead'])\n",
        "y = data['Lead']\n",
        "n_fold = 10\n",
        "modelList = []\n",
        "modelList.append(skl_da.LinearDiscriminantAnalysis())\n",
        "modelList.append(skl_da.QuadraticDiscriminantAnalysis())\n",
        "misclassification = np.zeros((n_fold , len(modelList)))\n",
        "cv = skl_ms.KFold(n_splits = n_fold, random_state = 31, shuffle = True)\n",
        "for i, (train_index , val_index) in enumerate(cv.split(x)): \n",
        "  X_train , X_val = x.iloc[train_index], x.iloc[val_index]\n",
        "  Y_train , Y_val = y.iloc[train_index], y.iloc[val_index]\n",
        "\n",
        "  for m in range(np.shape(modelList)[0]):\n",
        "    model = modelList[m]\n",
        "    model.fit(X_train , Y_train)\n",
        "    prediction = model.predict(X_val)\n",
        "    misclassification[i, m] = np.mean(prediction != Y_val)\n",
        "\n",
        "plt.boxplot(misclassification)\n",
        "plt.title('Cross Validation Error for LDA and QDA') \n",
        "plt.xticks(np.arange(2)+1, ('LDA', 'QDA')) \n",
        "plt.ylabel('Validation Error')\n",
        "plt.show()\n",
        "QDA_Ek_fold = misclassification .mean( axis=0) \n",
        "print('The LDA and QDA Ek−fold error is:')\n",
        "print(QDA_Ek_fold)"
      ],
      "metadata": {
        "colab": {
          "base_uri": "https://localhost:8080/",
          "height": 764
        },
        "id": "w6BE8Hm3Ax1h",
        "outputId": "6d2188c1-fe9b-443a-c4b7-152b942cc919"
      },
      "execution_count": null,
      "outputs": [
        {
          "output_type": "stream",
          "name": "stderr",
          "text": [
            "/usr/local/lib/python3.7/dist-packages/sklearn/discriminant_analysis.py:878: UserWarning: Variables are collinear\n",
            "  warnings.warn(\"Variables are collinear\")\n",
            "/usr/local/lib/python3.7/dist-packages/sklearn/discriminant_analysis.py:878: UserWarning: Variables are collinear\n",
            "  warnings.warn(\"Variables are collinear\")\n",
            "/usr/local/lib/python3.7/dist-packages/sklearn/discriminant_analysis.py:878: UserWarning: Variables are collinear\n",
            "  warnings.warn(\"Variables are collinear\")\n",
            "/usr/local/lib/python3.7/dist-packages/sklearn/discriminant_analysis.py:878: UserWarning: Variables are collinear\n",
            "  warnings.warn(\"Variables are collinear\")\n",
            "/usr/local/lib/python3.7/dist-packages/sklearn/discriminant_analysis.py:878: UserWarning: Variables are collinear\n",
            "  warnings.warn(\"Variables are collinear\")\n",
            "/usr/local/lib/python3.7/dist-packages/sklearn/discriminant_analysis.py:878: UserWarning: Variables are collinear\n",
            "  warnings.warn(\"Variables are collinear\")\n",
            "/usr/local/lib/python3.7/dist-packages/sklearn/discriminant_analysis.py:878: UserWarning: Variables are collinear\n",
            "  warnings.warn(\"Variables are collinear\")\n",
            "/usr/local/lib/python3.7/dist-packages/sklearn/discriminant_analysis.py:878: UserWarning: Variables are collinear\n",
            "  warnings.warn(\"Variables are collinear\")\n",
            "/usr/local/lib/python3.7/dist-packages/sklearn/discriminant_analysis.py:878: UserWarning: Variables are collinear\n",
            "  warnings.warn(\"Variables are collinear\")\n",
            "/usr/local/lib/python3.7/dist-packages/sklearn/discriminant_analysis.py:878: UserWarning: Variables are collinear\n",
            "  warnings.warn(\"Variables are collinear\")\n"
          ]
        },
        {
          "output_type": "display_data",
          "data": {
            "text/plain": [
              "<Figure size 720x432 with 1 Axes>"
            ],
            "image/png": "[encoded data removed]"
          },
          "metadata": {
            "needs_background": "light"
          }
        },
        {
          "output_type": "stream",
          "name": "stdout",
          "text": [
            "The LDA and QDA Ek−fold error is:\n",
            "[0.13090926 0.12126587]\n"
          ]
        }
      ]
    },
    {
      "cell_type": "markdown",
      "source": [
        "According to the boxplot, it seems that QDA shows a higher performance compared to LDA."
      ],
      "metadata": {
        "id": "L6l2_1U9NWgM"
      }
    }
  ]
}