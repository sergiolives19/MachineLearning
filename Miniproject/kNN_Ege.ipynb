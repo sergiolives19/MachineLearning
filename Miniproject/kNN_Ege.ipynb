{
  "nbformat": 4,
  "nbformat_minor": 0,
  "metadata": {
    "colab": {
      "name": "kNN_Ege.ipynb",
      "provenance": [],
      "collapsed_sections": []
    },
    "kernelspec": {
      "name": "python3",
      "display_name": "Python 3"
    },
    "language_info": {
      "name": "python"
    }
  },
  "cells": [
    {
      "cell_type": "code",
      "execution_count": null,
      "metadata": {
        "colab": {
          "base_uri": "https://localhost:8080/"
        },
        "id": "ivMSd_WXcBbR",
        "outputId": "b7a39f8f-49a2-4121-9791-ff073d8a31f4"
      },
      "outputs": [
        {
          "output_type": "stream",
          "name": "stdout",
          "text": [
            "<class 'pandas.core.frame.DataFrame'>\n",
            "RangeIndex: 1039 entries, 0 to 1038\n",
            "Data columns (total 14 columns):\n",
            " #   Column                                Non-Null Count  Dtype  \n",
            "---  ------                                --------------  -----  \n",
            " 0   Number words female                   1039 non-null   int64  \n",
            " 1   Total words                           1039 non-null   int64  \n",
            " 2   Number of words lead                  1039 non-null   float64\n",
            " 3   Difference in words lead and co-lead  1039 non-null   int64  \n",
            " 4   Number of male actors                 1039 non-null   int64  \n",
            " 5   Year                                  1039 non-null   int64  \n",
            " 6   Number of female actors               1039 non-null   int64  \n",
            " 7   Number words male                     1039 non-null   int64  \n",
            " 8   Gross                                 1039 non-null   float64\n",
            " 9   Mean Age Male                         1039 non-null   float64\n",
            " 10  Mean Age Female                       1039 non-null   float64\n",
            " 11  Age Lead                              1039 non-null   float64\n",
            " 12  Age Co-Lead                           1039 non-null   float64\n",
            " 13  Lead                                  1039 non-null   object \n",
            "dtypes: float64(6), int64(7), object(1)\n",
            "memory usage: 113.8+ KB\n"
          ]
        }
      ],
      "source": [
        "import pandas as pd\n",
        "import numpy as np\n",
        "import matplotlib.pyplot as plt\n",
        "from sklearn.neighbors import KNeighborsClassifier as knn\n",
        "from sklearn import metrics\n",
        "from sklearn.model_selection import cross_val_score as cvs\n",
        "from sklearn.model_selection import GridSearchCV as gscv\n",
        "import sklearn.model_selection as sklms\n",
        "from sklearn.metrics import accuracy_score,classification_report,confusion_matrix,roc_auc_score\n",
        "from sklearn.preprocessing import StandardScaler #Standardization since Knn is distance based\n",
        "link = 'https://raw.githubusercontent.com/Ari-vu/SML/main/Given_data/train.csv'\n",
        "data = pd.read_csv(link)\n",
        "data.info()"
      ]
    },
    {
      "cell_type": "markdown",
      "source": [
        "Defining the Dependent and Independent Variables, Scaling"
      ],
      "metadata": {
        "id": "0CQaECDgc9hx"
      }
    },
    {
      "cell_type": "code",
      "source": [
        "x = data.drop(columns = [\"Lead\"])\n",
        "y = data[\"Lead\"]\n",
        "sc = StandardScaler()\n",
        "sc.fit(data.drop('Lead', axis=1))\n",
        "x_scaled = sc.transform(data.drop('Lead',axis=1))"
      ],
      "metadata": {
        "id": "7jszZN-DdD4I"
      },
      "execution_count": null,
      "outputs": []
    },
    {
      "cell_type": "markdown",
      "source": [
        "First Model"
      ],
      "metadata": {
        "id": "QYOEd1gkeJEh"
      }
    },
    {
      "cell_type": "code",
      "source": [
        "first_model = knn(n_neighbors= 5)\n",
        "first_model.fit(x_scaled, y)\n",
        "print(f'Accuracy: {first_model.score(x_scaled, y)}')"
      ],
      "metadata": {
        "colab": {
          "base_uri": "https://localhost:8080/"
        },
        "id": "xND2fStLeKPo",
        "outputId": "b4b6d4d8-2202-4d4c-d304-9beaf2f41db0"
      },
      "execution_count": null,
      "outputs": [
        {
          "output_type": "stream",
          "name": "stdout",
          "text": [
            "Accuracy: 0.8537054860442733\n"
          ]
        }
      ]
    },
    {
      "cell_type": "markdown",
      "source": [
        "Finding Hyperparameters"
      ],
      "metadata": {
        "id": "URJeLVlXeyDK"
      }
    },
    {
      "cell_type": "code",
      "source": [
        "first_model.get_params()"
      ],
      "metadata": {
        "colab": {
          "base_uri": "https://localhost:8080/"
        },
        "id": "neXuVgZQe4qY",
        "outputId": "9dc849b1-be21-4a16-9a40-2a30cd76183e"
      },
      "execution_count": null,
      "outputs": [
        {
          "output_type": "execute_result",
          "data": {
            "text/plain": [
              "{'algorithm': 'auto',\n",
              " 'leaf_size': 30,\n",
              " 'metric': 'minkowski',\n",
              " 'metric_params': None,\n",
              " 'n_jobs': None,\n",
              " 'n_neighbors': 5,\n",
              " 'p': 2,\n",
              " 'weights': 'uniform'}"
            ]
          },
          "metadata": {},
          "execution_count": 5
        }
      ]
    },
    {
      "cell_type": "markdown",
      "source": [
        "Creating a Secondary Model"
      ],
      "metadata": {
        "id": "n7e59iAofv8i"
      }
    },
    {
      "cell_type": "code",
      "source": [
        "second_model = knn(n_neighbors = 3, p = 2, leaf_size= 30)\n",
        "second_model.fit(x_scaled, y)\n",
        "print(f'Accuracy: {second_model.score(x_scaled, y)}')"
      ],
      "metadata": {
        "colab": {
          "base_uri": "https://localhost:8080/"
        },
        "id": "mRcBzwwgfzcR",
        "outputId": "a78cfc91-1787-42e8-d63d-020abbbc9d7a"
      },
      "execution_count": null,
      "outputs": [
        {
          "output_type": "stream",
          "name": "stdout",
          "text": [
            "Accuracy: 0.8941289701636189\n"
          ]
        }
      ]
    },
    {
      "cell_type": "code",
      "source": [
        "k_range=range(1,15)\n",
        "k_scores=[]\n",
        "for k in k_range:\n",
        "    kf_cv = knn(n_neighbors=k)\n",
        "    scores = cvs(kf_cv, x_scaled, y, cv=10, scoring='accuracy')\n",
        "    k_scores.append(scores.mean())\n",
        "print(k_scores)\n",
        "plt.plot(k_range, k_scores, color='blue', linestyle='dashed', marker='o', markerfacecolor='red', markersize=10)\n",
        "plt.xlabel('k value')\n",
        "plt.ylabel('Cross Validation Accuracy')\n",
        "plt.show()"
      ],
      "metadata": {
        "colab": {
          "base_uri": "https://localhost:8080/",
          "height": 316
        },
        "id": "G4R_ZLZAh2Lh",
        "outputId": "8ed1c270-4331-42b0-91f2-dc72a2cd2e1c"
      },
      "execution_count": null,
      "outputs": [
        {
          "output_type": "stream",
          "name": "stdout",
          "text": [
            "[0.7699775952203136, 0.7372012696041822, 0.7843913368185212, 0.7718633308439132, 0.7997946228528753, 0.7911127707244211, 0.7863144137415982, 0.7863237490664674, 0.7911501120238984, 0.7978715459297983, 0.793091859596714, 0.7949962658700522, 0.7930545182972367, 0.7998319641523526]\n"
          ]
        },
        {
          "output_type": "display_data",
          "data": {
            "text/plain": [
              "<Figure size 432x288 with 1 Axes>"
            ],
            "image/png": "[encoded data removed]"
          },
          "metadata": {
            "needs_background": "light"
          }
        }
      ]
    },
    {
      "cell_type": "markdown",
      "source": [
        "GridSearch"
      ],
      "metadata": {
        "id": "u0HEfxhUj2vp"
      }
    },
    {
      "cell_type": "code",
      "source": [
        "gs_model = knn()\n",
        "k_range = list(range(1, 31))\n",
        "param_grid = dict(n_neighbors=k_range)\n",
        "grid = gscv(gs_model, param_grid, cv=5, scoring='accuracy', return_train_score=False,verbose=1)\n",
        "grid_search = grid.fit(x_scaled, y)"
      ],
      "metadata": {
        "colab": {
          "base_uri": "https://localhost:8080/"
        },
        "id": "B67daQnFjzMp",
        "outputId": "e719e72e-7f7e-4d64-886a-a1c0f8d613e7"
      },
      "execution_count": null,
      "outputs": [
        {
          "output_type": "stream",
          "name": "stdout",
          "text": [
            "Fitting 5 folds for each of 30 candidates, totalling 150 fits\n"
          ]
        }
      ]
    },
    {
      "cell_type": "code",
      "source": [
        "print(grid_search.best_params_)"
      ],
      "metadata": {
        "colab": {
          "base_uri": "https://localhost:8080/"
        },
        "id": "blSOaFRY_FR3",
        "outputId": "08d4ffcd-99e2-4f1c-a924-8116cc1d15d3"
      },
      "execution_count": null,
      "outputs": [
        {
          "output_type": "stream",
          "name": "stdout",
          "text": [
            "{'n_neighbors': 14}\n"
          ]
        }
      ]
    },
    {
      "cell_type": "code",
      "source": [
        "accuracy = grid_search.best_score_ *100\n",
        "print(\"Accuracy for dataset the with tuning is : {:.2f}%\".format(accuracy) )"
      ],
      "metadata": {
        "colab": {
          "base_uri": "https://localhost:8080/"
        },
        "id": "I_tftItX_R74",
        "outputId": "e37d96db-2440-423c-8e31-3d568d226e8e"
      },
      "execution_count": null,
      "outputs": [
        {
          "output_type": "stream",
          "name": "stdout",
          "text": [
            "Accuracy for dataset the with tuning is : 79.88%\n"
          ]
        }
      ]
    },
    {
      "cell_type": "markdown",
      "source": [
        "Randomized Search"
      ],
      "metadata": {
        "id": "D-svUlcHoQGS"
      }
    },
    {
      "cell_type": "code",
      "source": [
        "from sklearn.model_selection import RandomizedSearchCV as rscv\n",
        "rs_model = knn()\n",
        "k_range = list(range(1, 31))\n",
        "param_grid = dict(n_neighbors = k_range)\n",
        "rand_search = rscv(estimator = rs_model, param_distributions = param_grid, n_iter= 10, cv = 4,\n",
        "verbose = 2, random_state = 50, n_jobs = -1)\n",
        "rs_model = rand_search.fit(x_scaled, y)\n",
        "print(f'The best values of chosen parameters are {rs_model.best_params_}')\n",
        "accuracy = rs_model.best_score_ *100\n",
        "print(\"Accuracy for the dataset with tuning is : {:.2f}%\".format(accuracy) )"
      ],
      "metadata": {
        "colab": {
          "base_uri": "https://localhost:8080/"
        },
        "id": "DErXqqxN_u2O",
        "outputId": "4c39d652-6224-4150-8897-ee9457c8ea7b"
      },
      "execution_count": null,
      "outputs": [
        {
          "output_type": "stream",
          "name": "stdout",
          "text": [
            "Fitting 4 folds for each of 10 candidates, totalling 40 fits\n",
            "The best values of chosen parameters are {'n_neighbors': 18}\n",
            "Accuracy for the dataset with tuning is : 78.54%\n"
          ]
        }
      ]
    },
    {
      "cell_type": "code",
      "source": [
        "models = [first_model, second_model, grid_search, rs_model]\n",
        "cross_val = sklms.KFold(n_splits = 10, random_state = 50, shuffle=True)\n",
        "misclass = np.zeros((10, len(models)))\n",
        "acc = np.zeros((10, len(models)))\n",
        "\n",
        "for i, (train_indices, val_indices) in enumerate(cross_val.split(x_scaled)):\n",
        "  x_train, x_val=x_scaled[train_indices], x_scaled[val_indices]\n",
        "  y_train, y_val=y[train_indices], y[val_indices]\n",
        "\n",
        "  for j in range(np.shape(models)[0]):\n",
        "    model = models[j]\n",
        "    model.fit(x_scaled, y)\n",
        "    prediction = model.predict(x_val)\n",
        "    misclass[i, j] = np.mean(prediction != y_val)\n",
        "    acc[i, j] = np.mean(prediction == y_val)"
      ],
      "metadata": {
        "colab": {
          "base_uri": "https://localhost:8080/"
        },
        "id": "83yC6YVwF-2P",
        "outputId": "6901c79e-da00-407d-82c9-7a2a683f5846"
      },
      "execution_count": null,
      "outputs": [
        {
          "output_type": "stream",
          "name": "stdout",
          "text": [
            "Fitting 5 folds for each of 30 candidates, totalling 150 fits\n",
            "Fitting 4 folds for each of 10 candidates, totalling 40 fits\n",
            "Fitting 5 folds for each of 30 candidates, totalling 150 fits\n",
            "Fitting 4 folds for each of 10 candidates, totalling 40 fits\n",
            "Fitting 5 folds for each of 30 candidates, totalling 150 fits\n",
            "Fitting 4 folds for each of 10 candidates, totalling 40 fits\n",
            "Fitting 5 folds for each of 30 candidates, totalling 150 fits\n",
            "Fitting 4 folds for each of 10 candidates, totalling 40 fits\n",
            "Fitting 5 folds for each of 30 candidates, totalling 150 fits\n",
            "Fitting 4 folds for each of 10 candidates, totalling 40 fits\n",
            "Fitting 5 folds for each of 30 candidates, totalling 150 fits\n",
            "Fitting 4 folds for each of 10 candidates, totalling 40 fits\n",
            "Fitting 5 folds for each of 30 candidates, totalling 150 fits\n",
            "Fitting 4 folds for each of 10 candidates, totalling 40 fits\n",
            "Fitting 5 folds for each of 30 candidates, totalling 150 fits\n",
            "Fitting 4 folds for each of 10 candidates, totalling 40 fits\n",
            "Fitting 5 folds for each of 30 candidates, totalling 150 fits\n",
            "Fitting 4 folds for each of 10 candidates, totalling 40 fits\n",
            "Fitting 5 folds for each of 30 candidates, totalling 150 fits\n",
            "Fitting 4 folds for each of 10 candidates, totalling 40 fits\n"
          ]
        }
      ]
    },
    {
      "cell_type": "code",
      "source": [
        "plt.boxplot(misclass)\n",
        "plt.title('Cross-Validation Error for the Models')\n",
        "plt.xticks(np.arange(len(models)) + 1, ('First Model', 'Second', 'GridSearch', 'RandomSearch'))\n",
        "plt.ylabel('Misclassification Rate')\n",
        "plt.show()\n",
        "\n",
        "for x in range(len(models)):\n",
        "  print(f'Misclassification rate of the {models[x]} is: {np.mean(misclass[:, x])}')\n",
        "  print(f'Accuracy of the {models[x]} is: {1 - np.mean(misclass[:, x])}')"
      ],
      "metadata": {
        "colab": {
          "base_uri": "https://localhost:8080/",
          "height": 767
        },
        "id": "Sm12pxCSHvR4",
        "outputId": "189abc8b-4916-4b69-c016-a1704a2518cb"
      },
      "execution_count": null,
      "outputs": [
        {
          "output_type": "display_data",
          "data": {
            "text/plain": [
              "<Figure size 432x288 with 1 Axes>"
            ],
            "image/png": "[encoded data removed]"
          },
          "metadata": {
            "needs_background": "light"
          }
        },
        {
          "output_type": "stream",
          "name": "stdout",
          "text": [
            "Misclassification rate of the KNeighborsClassifier() is: 0.14631254667662436\n",
            "Accuracy of the KNeighborsClassifier() is: 0.8536874533233756\n",
            "Misclassification rate of the KNeighborsClassifier(n_neighbors=3) is: 0.10588125466766245\n",
            "Accuracy of the KNeighborsClassifier(n_neighbors=3) is: 0.8941187453323376\n",
            "Misclassification rate of the GridSearchCV(cv=5, estimator=KNeighborsClassifier(),\n",
            "             param_grid={'n_neighbors': [1, 2, 3, 4, 5, 6, 7, 8, 9, 10, 11, 12,\n",
            "                                         13, 14, 15, 16, 17, 18, 19, 20, 21, 22,\n",
            "                                         23, 24, 25, 26, 27, 28, 29, 30]},\n",
            "             scoring='accuracy', verbose=1) is: 0.1741784914115011\n",
            "Accuracy of the GridSearchCV(cv=5, estimator=KNeighborsClassifier(),\n",
            "             param_grid={'n_neighbors': [1, 2, 3, 4, 5, 6, 7, 8, 9, 10, 11, 12,\n",
            "                                         13, 14, 15, 16, 17, 18, 19, 20, 21, 22,\n",
            "                                         23, 24, 25, 26, 27, 28, 29, 30]},\n",
            "             scoring='accuracy', verbose=1) is: 0.8258215085884989\n",
            "Misclassification rate of the RandomizedSearchCV(cv=4, estimator=KNeighborsClassifier(), n_jobs=-1,\n",
            "                   param_distributions={'n_neighbors': [1, 2, 3, 4, 5, 6, 7, 8,\n",
            "                                                        9, 10, 11, 12, 13, 14,\n",
            "                                                        15, 16, 17, 18, 19, 20,\n",
            "                                                        21, 22, 23, 24, 25, 26,\n",
            "                                                        27, 28, 29, 30]},\n",
            "                   random_state=50, verbose=2) is: 0.17706310679611653\n",
            "Accuracy of the RandomizedSearchCV(cv=4, estimator=KNeighborsClassifier(), n_jobs=-1,\n",
            "                   param_distributions={'n_neighbors': [1, 2, 3, 4, 5, 6, 7, 8,\n",
            "                                                        9, 10, 11, 12, 13, 14,\n",
            "                                                        15, 16, 17, 18, 19, 20,\n",
            "                                                        21, 22, 23, 24, 25, 26,\n",
            "                                                        27, 28, 29, 30]},\n",
            "                   random_state=50, verbose=2) is: 0.8229368932038834\n"
          ]
        }
      ]
    }
  ]
}