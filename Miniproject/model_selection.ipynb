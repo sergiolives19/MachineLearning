{
  "nbformat": 4,
  "nbformat_minor": 0,
  "metadata": {
    "colab": {
      "name": "model_selection.ipynb",
      "provenance": [],
      "collapsed_sections": []
    },
    "kernelspec": {
      "name": "python3",
      "display_name": "Python 3"
    },
    "language_info": {
      "name": "python"
    }
  },
  "cells": [
    {
      "cell_type": "code",
      "source": [
        "import pandas as pd\n",
        "import numpy as np\n",
        "from sklearn.linear_model import LogisticRegression\n",
        "from sklearn.preprocessing import MinMaxScaler\n",
        "import sklearn.discriminant_analysis as skl_da\n",
        "from sklearn.neighbors import KNeighborsClassifier\n",
        "from sklearn.ensemble import RandomForestClassifier\n",
        "import sklearn.model_selection as skl_ms\n",
        "import matplotlib.pyplot as plt\n",
        "from sklearn.preprocessing import StandardScaler"
      ],
      "metadata": {
        "id": "RLyvORJEW2ws"
      },
      "execution_count": null,
      "outputs": []
    },
    {
      "cell_type": "code",
      "source": [
        "url = 'https://raw.githubusercontent.com/Ari-vu/SML/main/Given_data/train.csv'\n",
        "df = pd.read_csv(url)"
      ],
      "metadata": {
        "id": "T-eSj21eXDV1"
      },
      "execution_count": null,
      "outputs": []
    },
    {
      "cell_type": "code",
      "source": [
        "X = df.drop(columns=['Lead'])\n",
        "y = df.Lead"
      ],
      "metadata": {
        "id": "dif3OIykXm0N"
      },
      "execution_count": null,
      "outputs": []
    },
    {
      "cell_type": "code",
      "execution_count": null,
      "metadata": {
        "id": "vAmOkdShTvbl",
        "colab": {
          "base_uri": "https://localhost:8080/"
        },
        "outputId": "c251b88d-c61d-4e0e-f16f-3d9fb04da22f"
      },
      "outputs": [
        {
          "output_type": "stream",
          "name": "stderr",
          "text": [
            "/usr/local/lib/python3.7/dist-packages/sklearn/discriminant_analysis.py:878: UserWarning: Variables are collinear\n",
            "  warnings.warn(\"Variables are collinear\")\n",
            "/usr/local/lib/python3.7/dist-packages/numpy/core/fromnumeric.py:1970: VisibleDeprecationWarning: Creating an ndarray from ragged nested sequences (which is a list-or-tuple of lists-or-tuples-or ndarrays with different lengths or shapes) is deprecated. If you meant to do this, you must specify 'dtype=object' when creating the ndarray.\n",
            "  result = asarray(a).shape\n",
            "/usr/local/lib/python3.7/dist-packages/sklearn/discriminant_analysis.py:878: UserWarning: Variables are collinear\n",
            "  warnings.warn(\"Variables are collinear\")\n",
            "/usr/local/lib/python3.7/dist-packages/numpy/core/fromnumeric.py:1970: VisibleDeprecationWarning: Creating an ndarray from ragged nested sequences (which is a list-or-tuple of lists-or-tuples-or ndarrays with different lengths or shapes) is deprecated. If you meant to do this, you must specify 'dtype=object' when creating the ndarray.\n",
            "  result = asarray(a).shape\n",
            "/usr/local/lib/python3.7/dist-packages/sklearn/discriminant_analysis.py:878: UserWarning: Variables are collinear\n",
            "  warnings.warn(\"Variables are collinear\")\n",
            "/usr/local/lib/python3.7/dist-packages/numpy/core/fromnumeric.py:1970: VisibleDeprecationWarning: Creating an ndarray from ragged nested sequences (which is a list-or-tuple of lists-or-tuples-or ndarrays with different lengths or shapes) is deprecated. If you meant to do this, you must specify 'dtype=object' when creating the ndarray.\n",
            "  result = asarray(a).shape\n",
            "/usr/local/lib/python3.7/dist-packages/sklearn/discriminant_analysis.py:878: UserWarning: Variables are collinear\n",
            "  warnings.warn(\"Variables are collinear\")\n",
            "/usr/local/lib/python3.7/dist-packages/numpy/core/fromnumeric.py:1970: VisibleDeprecationWarning: Creating an ndarray from ragged nested sequences (which is a list-or-tuple of lists-or-tuples-or ndarrays with different lengths or shapes) is deprecated. If you meant to do this, you must specify 'dtype=object' when creating the ndarray.\n",
            "  result = asarray(a).shape\n",
            "/usr/local/lib/python3.7/dist-packages/sklearn/discriminant_analysis.py:878: UserWarning: Variables are collinear\n",
            "  warnings.warn(\"Variables are collinear\")\n",
            "/usr/local/lib/python3.7/dist-packages/numpy/core/fromnumeric.py:1970: VisibleDeprecationWarning: Creating an ndarray from ragged nested sequences (which is a list-or-tuple of lists-or-tuples-or ndarrays with different lengths or shapes) is deprecated. If you meant to do this, you must specify 'dtype=object' when creating the ndarray.\n",
            "  result = asarray(a).shape\n",
            "/usr/local/lib/python3.7/dist-packages/sklearn/discriminant_analysis.py:878: UserWarning: Variables are collinear\n",
            "  warnings.warn(\"Variables are collinear\")\n",
            "/usr/local/lib/python3.7/dist-packages/numpy/core/fromnumeric.py:1970: VisibleDeprecationWarning: Creating an ndarray from ragged nested sequences (which is a list-or-tuple of lists-or-tuples-or ndarrays with different lengths or shapes) is deprecated. If you meant to do this, you must specify 'dtype=object' when creating the ndarray.\n",
            "  result = asarray(a).shape\n",
            "/usr/local/lib/python3.7/dist-packages/sklearn/discriminant_analysis.py:878: UserWarning: Variables are collinear\n",
            "  warnings.warn(\"Variables are collinear\")\n",
            "/usr/local/lib/python3.7/dist-packages/numpy/core/fromnumeric.py:1970: VisibleDeprecationWarning: Creating an ndarray from ragged nested sequences (which is a list-or-tuple of lists-or-tuples-or ndarrays with different lengths or shapes) is deprecated. If you meant to do this, you must specify 'dtype=object' when creating the ndarray.\n",
            "  result = asarray(a).shape\n",
            "/usr/local/lib/python3.7/dist-packages/sklearn/discriminant_analysis.py:878: UserWarning: Variables are collinear\n",
            "  warnings.warn(\"Variables are collinear\")\n",
            "/usr/local/lib/python3.7/dist-packages/numpy/core/fromnumeric.py:1970: VisibleDeprecationWarning: Creating an ndarray from ragged nested sequences (which is a list-or-tuple of lists-or-tuples-or ndarrays with different lengths or shapes) is deprecated. If you meant to do this, you must specify 'dtype=object' when creating the ndarray.\n",
            "  result = asarray(a).shape\n",
            "/usr/local/lib/python3.7/dist-packages/sklearn/discriminant_analysis.py:878: UserWarning: Variables are collinear\n",
            "  warnings.warn(\"Variables are collinear\")\n",
            "/usr/local/lib/python3.7/dist-packages/numpy/core/fromnumeric.py:1970: VisibleDeprecationWarning: Creating an ndarray from ragged nested sequences (which is a list-or-tuple of lists-or-tuples-or ndarrays with different lengths or shapes) is deprecated. If you meant to do this, you must specify 'dtype=object' when creating the ndarray.\n",
            "  result = asarray(a).shape\n",
            "/usr/local/lib/python3.7/dist-packages/sklearn/discriminant_analysis.py:878: UserWarning: Variables are collinear\n",
            "  warnings.warn(\"Variables are collinear\")\n"
          ]
        },
        {
          "output_type": "display_data",
          "data": {
            "text/plain": [
              "<Figure size 432x288 with 1 Axes>"
            ],
            "image/png": "[encoded data removed]"
          },
          "metadata": {
            "needs_background": "light"
          }
        },
        {
          "output_type": "stream",
          "name": "stdout",
          "text": [
            "Average misclassification error for Logistic Regression: 0.1944\n",
            "Average misclassification error for QDA: 0.1376\n",
            "Average misclassification error for KNN: 0.1723\n",
            "Average misclassification error for Random Forest Classifier: 0.1414\n"
          ]
        }
      ],
      "source": [
        "k_fold = 10\n",
        "rand_state = 42\n",
        "\n",
        "# define models with optimal hyperparameters\n",
        "models = []\n",
        "models.append(LogisticRegression(solver='liblinear', random_state=rand_state))\n",
        "models.append(skl_da.QuadraticDiscriminantAnalysis())\n",
        "models.append(KNeighborsClassifier(n_neighbors= 14, metric = 'euclidean'))\n",
        "models.append(RandomForestClassifier(max_depth=15, min_samples_leaf=1, min_samples_split=6,\n",
        "                                     n_estimators=400, random_state=rand_state))\n",
        "\n",
        "# cross validation to calculate error on new data of the different methods\n",
        "misclassification = np.zeros((k_fold, len(models)))\n",
        "cv = skl_ms.KFold(n_splits=k_fold, random_state=rand_state, shuffle=True)\n",
        "\n",
        "for i, (train_index, val_index) in enumerate(cv.split(X)):\n",
        "  X_train, X_val = X.iloc[train_index], X.iloc[val_index]\n",
        "  y_train, y_val = y.iloc[train_index], y.iloc[val_index]\n",
        "  X_train_reduced = X_train.drop(columns=['Gross', 'Year', 'Mean Age Female', 'Mean Age Male',\n",
        "                               'Number of words lead', 'Total words'])\n",
        "  X_val_reduced = X_val.drop(columns=['Gross', 'Year', 'Mean Age Female', 'Mean Age Male',\n",
        "                               'Number of words lead', 'Total words'])\n",
        "  norm = MinMaxScaler().fit(X_train)\n",
        "  sc = StandardScaler().fit(X_train)\n",
        "  x_scaled = sc.transform(df.drop('Lead',axis=1))\n",
        "  X_train_norm, X_val_norm = norm.transform(X_train), norm.transform(X_val)\n",
        "  x_scaled_test = sc.transform(X_val)\n",
        "  for m in range(np.shape(models)[0]):\n",
        "    model = models[m]\n",
        "    if m == 0: # use normalized features for training the logistic regression\n",
        "      model.fit(X_train_norm, y_train)\n",
        "      prediction = model.predict(X_val_norm)\n",
        "    elif m == 2: # Use scaled features to train the Knn\n",
        "      model.fit(x_scaled, y)\n",
        "      prediction = model.predict(x_scaled_test)\n",
        "    elif m == 3: # use reduced number of features for training the random forest classifier\n",
        "      model.fit(X_train_reduced, y_train)\n",
        "      prediction = model.predict(X_val_reduced)\n",
        "    else: # use original features for training QDA\n",
        "      model.fit(X_train, y_train)\n",
        "      prediction = model.predict(X_val)\n",
        "    misclassification[i, m] = np.mean(prediction != y_val)\n",
        "\n",
        "plt.boxplot(misclassification)\n",
        "plt.title('cross validation error for different methods')\n",
        "plt.xticks(np.arange(len(models))+1, ('Logistic Regression', 'QDA', 'kNN', 'Random Forest Classifier'))\n",
        "plt.ylabel('validation error')\n",
        "plt.show()\n",
        "\n",
        "# print average misclassification error for each model\n",
        "print('Average misclassification error for Logistic Regression: %.4f'\n",
        "%np.mean(misclassification[:, 0]))\n",
        "print('Average misclassification error for QDA: %.4f'\n",
        "%np.mean(misclassification[:, 1]))\n",
        "print('Average misclassification error for KNN: %.4f'\n",
        "%np.mean(misclassification[:, 2]))\n",
        "print('Average misclassification error for Random Forest Classifier: %.4f'\n",
        "%np.mean(misclassification[:, 3]))"
      ]
    }
  ]
}