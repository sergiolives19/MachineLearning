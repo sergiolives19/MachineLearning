{
  "cells": [
    {
      "cell_type": "code",
      "execution_count": null,
      "metadata": {
        "id": "DPsPR3B2SCsU"
      },
      "outputs": [],
      "source": [
        "import pandas as pd\n",
        "import numpy as np\n",
        "from sklearn.ensemble import RandomForestClassifier\n",
        "from sklearn.model_selection import RandomizedSearchCV\n",
        "import sklearn.model_selection as skl_ms\n",
        "import matplotlib.pyplot as plt\n",
        "import joblib"
      ]
    },
    {
      "cell_type": "code",
      "execution_count": null,
      "metadata": {
        "id": "e3jryXQ3UtQI"
      },
      "outputs": [],
      "source": [
        "# upload training data\n",
        "url = 'https://raw.githubusercontent.com/Ari-vu/SML/main/Given_data/train.csv'\n",
        "train_data = pd.read_csv(url)"
      ]
    },
    {
      "cell_type": "code",
      "execution_count": null,
      "metadata": {
        "id": "G3zM_LQnU4-o"
      },
      "outputs": [],
      "source": [
        "# define features (X) and label (y)\n",
        "X = train_data.drop(columns=['Lead'])\n",
        "y = train_data['Lead']"
      ]
    },
    {
      "cell_type": "code",
      "source": [
        "# set a random state\n",
        "rand_state = 42"
      ],
      "metadata": {
        "id": "mRoDkmqeAEYB"
      },
      "execution_count": null,
      "outputs": []
    },
    {
      "cell_type": "code",
      "execution_count": null,
      "metadata": {
        "colab": {
          "base_uri": "https://localhost:8080/"
        },
        "id": "4sv7BRLRScKi",
        "outputId": "24657905-3698-4e0e-ffdf-328335b4ffc0"
      },
      "outputs": [
        {
          "output_type": "stream",
          "name": "stdout",
          "text": [
            "Accuracy on training data: 1.00\n"
          ]
        }
      ],
      "source": [
        "# define a first model using the default hyperparameters\n",
        "default_model = RandomForestClassifier(random_state=rand_state)\n",
        "# train model\n",
        "default_model.fit(X, y)\n",
        "# calculate accuracy on training data\n",
        "print('Accuracy on training data: %.2f' %np.mean(default_model.predict(X)==y))"
      ]
    },
    {
      "cell_type": "markdown",
      "source": [
        "The model seems to overfit (100% accuracy on training data)"
      ],
      "metadata": {
        "id": "ArX-9W7IK9yJ"
      }
    },
    {
      "cell_type": "code",
      "execution_count": null,
      "metadata": {
        "colab": {
          "base_uri": "https://localhost:8080/"
        },
        "id": "76MGpqwgbzWy",
        "outputId": "76ee1c50-a478-47eb-8c3b-3a374c76982f"
      },
      "outputs": [
        {
          "output_type": "execute_result",
          "data": {
            "text/plain": [
              "{'bootstrap': True,\n",
              " 'ccp_alpha': 0.0,\n",
              " 'class_weight': None,\n",
              " 'criterion': 'gini',\n",
              " 'max_depth': None,\n",
              " 'max_features': 'auto',\n",
              " 'max_leaf_nodes': None,\n",
              " 'max_samples': None,\n",
              " 'min_impurity_decrease': 0.0,\n",
              " 'min_samples_leaf': 1,\n",
              " 'min_samples_split': 2,\n",
              " 'min_weight_fraction_leaf': 0.0,\n",
              " 'n_estimators': 100,\n",
              " 'n_jobs': None,\n",
              " 'oob_score': False,\n",
              " 'random_state': 42,\n",
              " 'verbose': 0,\n",
              " 'warm_start': False}"
            ]
          },
          "metadata": {},
          "execution_count": 6
        }
      ],
      "source": [
        "# check default hyperparameter values\n",
        "default_model.get_params()"
      ]
    },
    {
      "cell_type": "code",
      "source": [
        "# define a second model which doesn't overfit (hyperparameter values for lower complexity)\n",
        "model_without_overfit = RandomForestClassifier(max_depth=10, min_samples_leaf=5, min_samples_split=10,\n",
        "                                               n_estimators=500, random_state=rand_state)\n",
        "# train model\n",
        "model_without_overfit.fit(X, y)\n",
        "# calculate accuracy on training data\n",
        "print('Accuracy on training data: %.2f' %np.mean(model_without_overfit.predict(X)==y))"
      ],
      "metadata": {
        "colab": {
          "base_uri": "https://localhost:8080/"
        },
        "id": "sH_wcn-LWZjz",
        "outputId": "25035c04-7360-4c06-da0f-0354c567b403"
      },
      "execution_count": null,
      "outputs": [
        {
          "output_type": "stream",
          "name": "stdout",
          "text": [
            "Accuracy on training data: 0.94\n"
          ]
        }
      ]
    },
    {
      "cell_type": "code",
      "execution_count": null,
      "metadata": {
        "id": "ab3zFiJ-n6US"
      },
      "outputs": [],
      "source": [
        "# define several values for some hyperparameters in a random grid\n",
        "max_depth = [10, 15, 20, 25, None]\n",
        "min_samples_leaf = [1, 2, 3, 4, 5]\n",
        "min_samples_split = [2, 3, 4, 5, 6]\n",
        "n_estimators = [100, 200, 300, 400, 500]\n",
        "\n",
        "random_grid = {'max_depth': max_depth,\n",
        "               'min_samples_split': min_samples_split,\n",
        "               'min_samples_leaf': min_samples_leaf,\n",
        "               'n_estimators': n_estimators}"
      ]
    },
    {
      "cell_type": "code",
      "execution_count": null,
      "metadata": {
        "colab": {
          "base_uri": "https://localhost:8080/"
        },
        "id": "hHfJ-KcHohQT",
        "outputId": "1283e103-1df6-4e7f-c590-73cca272e7d0"
      },
      "outputs": [
        {
          "output_type": "execute_result",
          "data": {
            "text/plain": [
              "RandomizedSearchCV(cv=10, estimator=RandomForestClassifier(), n_iter=100,\n",
              "                   param_distributions={'max_depth': [10, 15, 20, 25, None],\n",
              "                                        'min_samples_leaf': [1, 2, 3, 4, 5],\n",
              "                                        'min_samples_split': [2, 3, 4, 5, 6],\n",
              "                                        'n_estimators': [100, 200, 300, 400,\n",
              "                                                         500]},\n",
              "                   random_state=42)"
            ]
          },
          "metadata": {},
          "execution_count": 9
        }
      ],
      "source": [
        "# use cross validation to find the best hyperparameters\n",
        "rfc = RandomForestClassifier()\n",
        "CV = RandomizedSearchCV(estimator=rfc, param_distributions=random_grid,\n",
        "                        n_iter=100, cv=10, random_state=rand_state)\n",
        "CV.fit(X, y)"
      ]
    },
    {
      "cell_type": "code",
      "source": [
        "# check optimal values of the hyperparameters\n",
        "opt_max_depth = CV.best_params_['max_depth']\n",
        "opt_min_samples_leaf = CV.best_params_['min_samples_leaf']\n",
        "opt_min_samples_split = CV.best_params_['min_samples_split']\n",
        "opt_n_estimators = CV.best_params_['n_estimators']\n",
        "CV.best_params_"
      ],
      "metadata": {
        "colab": {
          "base_uri": "https://localhost:8080/"
        },
        "id": "ZLQUR23qE_IS",
        "outputId": "af9c638b-d03a-439f-db91-2080da5046a3"
      },
      "execution_count": null,
      "outputs": [
        {
          "output_type": "execute_result",
          "data": {
            "text/plain": [
              "{'max_depth': 15,\n",
              " 'min_samples_leaf': 1,\n",
              " 'min_samples_split': 6,\n",
              " 'n_estimators': 400}"
            ]
          },
          "metadata": {},
          "execution_count": 10
        }
      ]
    },
    {
      "cell_type": "code",
      "source": [
        "# define model with optimized hyperparameters\n",
        "optimized_model = RandomForestClassifier(max_depth=opt_max_depth,\n",
        "                  min_samples_leaf=opt_min_samples_leaf,\n",
        "                  min_samples_split=opt_min_samples_split,\n",
        "                  n_estimators=opt_n_estimators, random_state=rand_state)\n",
        "# train model\n",
        "optimized_model.fit(X, y)\n",
        "# calculate accuracy on training data\n",
        "print('Accuracy on training data: %.2f' %np.mean(optimized_model.predict(X)==y))"
      ],
      "metadata": {
        "colab": {
          "base_uri": "https://localhost:8080/"
        },
        "id": "mtqggwubogJN",
        "outputId": "f601f366-9654-4b68-fa14-761e454eaa74"
      },
      "execution_count": null,
      "outputs": [
        {
          "output_type": "stream",
          "name": "stdout",
          "text": [
            "Accuracy on training data: 1.00\n"
          ]
        }
      ]
    },
    {
      "cell_type": "code",
      "source": [
        "# calculate importance of each feature\n",
        "importances = list(optimized_model.feature_importances_)\n",
        "feature_importances = [(feature, round(importance, 2)) for feature, importance\n",
        "                       in zip(X.columns, importances)]\n",
        "feature_importances = sorted(feature_importances, key = lambda x: x[1], reverse = True)\n",
        "[print('Feature: {:40} Importance: {}'.format(*pair)) for pair in feature_importances];"
      ],
      "metadata": {
        "colab": {
          "base_uri": "https://localhost:8080/"
        },
        "id": "jD-42niRlyoD",
        "outputId": "efdad719-f5e4-4548-b124-cd4ce541a995"
      },
      "execution_count": null,
      "outputs": [
        {
          "output_type": "stream",
          "name": "stdout",
          "text": [
            "Feature: Number words female                      Importance: 0.14\n",
            "Feature: Number of female actors                  Importance: 0.11\n",
            "Feature: Difference in words lead and co-lead     Importance: 0.1\n",
            "Feature: Age Lead                                 Importance: 0.1\n",
            "Feature: Age Co-Lead                              Importance: 0.09\n",
            "Feature: Number of male actors                    Importance: 0.08\n",
            "Feature: Number words male                        Importance: 0.07\n",
            "Feature: Mean Age Male                            Importance: 0.06\n",
            "Feature: Mean Age Female                          Importance: 0.06\n",
            "Feature: Total words                              Importance: 0.05\n",
            "Feature: Number of words lead                     Importance: 0.05\n",
            "Feature: Year                                     Importance: 0.04\n",
            "Feature: Gross                                    Importance: 0.04\n"
          ]
        }
      ]
    },
    {
      "cell_type": "code",
      "source": [
        "# remove features with low importance\n",
        "X_2 = X.drop(columns=['Gross', 'Year', 'Mean Age Female', 'Mean Age Male',\n",
        "                      'Number of words lead', 'Total words'])"
      ],
      "metadata": {
        "id": "3kS-S4KHmzRT"
      },
      "execution_count": null,
      "outputs": []
    },
    {
      "cell_type": "code",
      "source": [
        "# define model with optimized hyperparameters without all features\n",
        "optimized_model_with_removed_features = RandomForestClassifier(max_depth=opt_max_depth,\n",
        "                                        min_samples_leaf=opt_min_samples_leaf,\n",
        "                                        min_samples_split=opt_min_samples_split,\n",
        "                                        n_estimators=opt_n_estimators, random_state=rand_state)\n",
        "# train model\n",
        "optimized_model_with_removed_features.fit(X_2, y)\n",
        "# calculate accuracy on training data\n",
        "print('Accuracy on training data: %.2f' %np.mean(optimized_model_with_removed_features.predict(X_2)==y))"
      ],
      "metadata": {
        "colab": {
          "base_uri": "https://localhost:8080/"
        },
        "id": "o24s2xWdmz9b",
        "outputId": "638fe022-ec3a-4be1-e3dc-3d5eb1a89111"
      },
      "execution_count": null,
      "outputs": [
        {
          "output_type": "stream",
          "name": "stdout",
          "text": [
            "Accuracy on training data: 0.99\n"
          ]
        }
      ]
    },
    {
      "cell_type": "code",
      "source": [
        "models = [default_model, model_without_overfit, optimized_model,\n",
        "          optimized_model_with_removed_features]\n",
        "\n",
        "k_fold = 10\n",
        "misclassification = np.zeros((k_fold, len(models)))\n",
        "\n",
        "# use cross validation to calculate error on new data of the three models\n",
        "cv = skl_ms.KFold(n_splits=k_fold, random_state=rand_state, shuffle=True)\n",
        "\n",
        "for i, (train_index, val_index) in enumerate(cv.split(X)):\n",
        "  # split train and validation data\n",
        "  X_train, X_val = X.iloc[train_index], X.iloc[val_index]\n",
        "  X_train2, X_val2 = X_2.iloc[train_index], X_2.iloc[val_index] # data without all features\n",
        "  y_train, y_val = y.iloc[train_index], y.iloc[val_index]\n",
        "\n",
        "  # train each model and calculate misclassification error on validation data\n",
        "  for m in range(np.shape(models)[0]):\n",
        "    model = models[m]\n",
        "    if m == 3:\n",
        "      model.fit(X_train2, y_train)\n",
        "      prediction = model.predict(X_val2)\n",
        "    else:\n",
        "      model.fit(X_train, y_train)\n",
        "      prediction = model.predict(X_val)\n",
        "    misclassification[i, m] = np.mean(prediction != y_val)\n",
        "\n",
        "plt.boxplot(misclassification)\n",
        "plt.title('cross validation error for different models')\n",
        "plt.xticks(np.arange(len(models))+1, ('Default model', 'No overfitting',\n",
        "                                      'Optimized model', 'Less features'))\n",
        "plt.ylabel('validation error')\n",
        "plt.show()\n",
        "\n",
        "# print average misclassification error for each model\n",
        "print('Average misclassification error for the default model: %.4f'\n",
        " %np.mean(misclassification[:, 0]))\n",
        "print('Average misclassification error for the model without overfitting: %.4f'\n",
        " %np.mean(misclassification[:, 1]))\n",
        "print('Average misclassification error for the optimized model: %.4f'\n",
        " %np.mean(misclassification[:, 2]))\n",
        "print('Average misclassification error for the optimized model with removed features: %.4f'\n",
        " %np.mean(misclassification[:, 3]))"
      ],
      "metadata": {
        "colab": {
          "base_uri": "https://localhost:8080/",
          "height": 718
        },
        "id": "PFz4IStoF_TI",
        "outputId": "322e709b-e206-40e1-cba3-71d8701ba3f8"
      },
      "execution_count": null,
      "outputs": [
        {
          "output_type": "stream",
          "name": "stderr",
          "text": [
            "/usr/local/lib/python3.7/dist-packages/numpy/core/fromnumeric.py:1970: VisibleDeprecationWarning: Creating an ndarray from ragged nested sequences (which is a list-or-tuple of lists-or-tuples-or ndarrays with different lengths or shapes) is deprecated. If you meant to do this, you must specify 'dtype=object' when creating the ndarray.\n",
            "  result = asarray(a).shape\n",
            "/usr/local/lib/python3.7/dist-packages/numpy/core/fromnumeric.py:1970: VisibleDeprecationWarning: Creating an ndarray from ragged nested sequences (which is a list-or-tuple of lists-or-tuples-or ndarrays with different lengths or shapes) is deprecated. If you meant to do this, you must specify 'dtype=object' when creating the ndarray.\n",
            "  result = asarray(a).shape\n",
            "/usr/local/lib/python3.7/dist-packages/numpy/core/fromnumeric.py:1970: VisibleDeprecationWarning: Creating an ndarray from ragged nested sequences (which is a list-or-tuple of lists-or-tuples-or ndarrays with different lengths or shapes) is deprecated. If you meant to do this, you must specify 'dtype=object' when creating the ndarray.\n",
            "  result = asarray(a).shape\n",
            "/usr/local/lib/python3.7/dist-packages/numpy/core/fromnumeric.py:1970: VisibleDeprecationWarning: Creating an ndarray from ragged nested sequences (which is a list-or-tuple of lists-or-tuples-or ndarrays with different lengths or shapes) is deprecated. If you meant to do this, you must specify 'dtype=object' when creating the ndarray.\n",
            "  result = asarray(a).shape\n",
            "/usr/local/lib/python3.7/dist-packages/numpy/core/fromnumeric.py:1970: VisibleDeprecationWarning: Creating an ndarray from ragged nested sequences (which is a list-or-tuple of lists-or-tuples-or ndarrays with different lengths or shapes) is deprecated. If you meant to do this, you must specify 'dtype=object' when creating the ndarray.\n",
            "  result = asarray(a).shape\n",
            "/usr/local/lib/python3.7/dist-packages/numpy/core/fromnumeric.py:1970: VisibleDeprecationWarning: Creating an ndarray from ragged nested sequences (which is a list-or-tuple of lists-or-tuples-or ndarrays with different lengths or shapes) is deprecated. If you meant to do this, you must specify 'dtype=object' when creating the ndarray.\n",
            "  result = asarray(a).shape\n",
            "/usr/local/lib/python3.7/dist-packages/numpy/core/fromnumeric.py:1970: VisibleDeprecationWarning: Creating an ndarray from ragged nested sequences (which is a list-or-tuple of lists-or-tuples-or ndarrays with different lengths or shapes) is deprecated. If you meant to do this, you must specify 'dtype=object' when creating the ndarray.\n",
            "  result = asarray(a).shape\n",
            "/usr/local/lib/python3.7/dist-packages/numpy/core/fromnumeric.py:1970: VisibleDeprecationWarning: Creating an ndarray from ragged nested sequences (which is a list-or-tuple of lists-or-tuples-or ndarrays with different lengths or shapes) is deprecated. If you meant to do this, you must specify 'dtype=object' when creating the ndarray.\n",
            "  result = asarray(a).shape\n",
            "/usr/local/lib/python3.7/dist-packages/numpy/core/fromnumeric.py:1970: VisibleDeprecationWarning: Creating an ndarray from ragged nested sequences (which is a list-or-tuple of lists-or-tuples-or ndarrays with different lengths or shapes) is deprecated. If you meant to do this, you must specify 'dtype=object' when creating the ndarray.\n",
            "  result = asarray(a).shape\n",
            "/usr/local/lib/python3.7/dist-packages/numpy/core/fromnumeric.py:1970: VisibleDeprecationWarning: Creating an ndarray from ragged nested sequences (which is a list-or-tuple of lists-or-tuples-or ndarrays with different lengths or shapes) is deprecated. If you meant to do this, you must specify 'dtype=object' when creating the ndarray.\n",
            "  result = asarray(a).shape\n"
          ]
        },
        {
          "output_type": "display_data",
          "data": {
            "text/plain": [
              "<Figure size 432x288 with 1 Axes>"
            ],
            "image/png": "[encoded data removed]"
          },
          "metadata": {
            "needs_background": "light"
          }
        },
        {
          "output_type": "stream",
          "name": "stdout",
          "text": [
            "Average misclassification error for the default model: 0.1578\n",
            "Average misclassification error for the model without overfitting: 0.1617\n",
            "Average misclassification error for the optimized model: 0.1540\n",
            "Average misclassification error for the optimized model with removed features: 0.1472\n"
          ]
        }
      ]
    },
    {
      "cell_type": "markdown",
      "source": [
        "The model with the highest performance seems to be the one with the optimized hyperparameters which has been trained with a reduced number of features."
      ],
      "metadata": {
        "id": "JP5oZ9MJcYOL"
      }
    },
    {
      "cell_type": "code",
      "source": [
        "# save best model as a file\n",
        "joblib.dump(optimized_model_with_removed_features, 'random_forest.pkl')"
      ],
      "metadata": {
        "colab": {
          "base_uri": "https://localhost:8080/"
        },
        "id": "--8S82u5dIb9",
        "outputId": "675e4faf-bff0-4626-e50a-d5328c706176"
      },
      "execution_count": null,
      "outputs": [
        {
          "output_type": "execute_result",
          "data": {
            "text/plain": [
              "['random_forest.pkl']"
            ]
          },
          "metadata": {},
          "execution_count": 16
        }
      ]
    }
  ],
  "metadata": {
    "colab": {
      "collapsed_sections": [],
      "name": "RandomForest_Sergi.ipynb",
      "provenance": []
    },
    "kernelspec": {
      "display_name": "Python 3",
      "name": "python3"
    },
    "language_info": {
      "name": "python"
    }
  },
  "nbformat": 4,
  "nbformat_minor": 0
}